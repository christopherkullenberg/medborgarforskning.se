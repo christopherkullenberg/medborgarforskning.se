{
 "cells": [
  {
   "cell_type": "code",
   "execution_count": 43,
   "metadata": {},
   "outputs": [],
   "source": [
    "import flashtext\n",
    "\n",
    "import csv\n",
    "from xml.sax.saxutils import escape\n",
    "from collections import Counter\n",
    "       \n",
    "\n",
    "def parsecsv():\n",
    "    with open('ARCSLiterature.csv', 'r') as thefile:\n",
    "        data = csv.DictReader(thefile, delimiter=',', quotechar='\"')\n",
    "        datadict = {}\n",
    "        for row in data:\n",
    "            if escape(row['Title']) not in datadict:\n",
    "                datadict[row['Title']] = [row['Author'],\n",
    "                                                 row['Publication Year'],\n",
    "                                                 row['Publication Title'],\n",
    "                                                 row['Issue'],\n",
    "                                                 row['Volume'],\n",
    "                                                 row['DOI'],\n",
    "                                                 row['Abstract Note'],\n",
    "                                                 row['Manual Tags'],\n",
    "                                                \n",
    "                                          ]\n",
    "\n",
    "            else:\n",
    "                continue\n",
    "        return datadict\n",
    "\n"
   ]
  },
  {
   "cell_type": "code",
   "execution_count": 44,
   "metadata": {},
   "outputs": [],
   "source": [
    "keyword_processor = flashtext.KeywordProcessor()"
   ]
  },
  {
   "cell_type": "code",
   "execution_count": 45,
   "metadata": {},
   "outputs": [],
   "source": [
    "for k, v in parsecsv().items():\n",
    "    for kw in v[7].lower().split(';'):\n",
    "        keyword_processor.add_keyword(kw.strip())\n",
    "\n"
   ]
  },
  {
   "cell_type": "code",
   "execution_count": 46,
   "metadata": {},
   "outputs": [],
   "source": [
    "keywords_found = keyword_processor.extract_keywords('Background Online systems for observation reporting by citizen scientists have been operating for many years. iNaturalist (California Academy of Sciences 2016), eBird (Cornell Lab of Ornithology 2016) and Observado (Observation International 2016) are well-known international systems, Artportalen (Swedish Species Information Centre 2016) and Artsobservasjoner (Norwegian Biodiversity Information Centre 2016) are Scandinavian. In addition, databases and online solutions exist that are more directly research-oriented but still offer participation by citizen scientists, such as the PlutoF (University of Tartu Natural History Museum 2016) platform. The University of Tartu Natural History Museum maintains the PlutoF platform (Abarenkov et al. 2010) for storing and managing biodiversity data, including taxon observations. In 2014, development was started to integrate an observation app “Minu loodusheli”/” My naturesound” (University of Tartu Natural History Museum 2017b) (My naturesound, Fig. 1) within PlutoF system. In 2017, an English language version of the app (University of Tartu Natural History Museum 2017c) was launched that includes nearly all major sound-producing taxon groups in its taxonomy. The application also acts as a practical tool for collecting and publishing occurrence data for the Global Biodiversity Information Facility (Global Biodiversity Information Facility 2017) in standardized Darwin Core format together with download links to the multimedia files. Although the sound recording ability of mobile phones opens new opportunities to validate taxon occurrences, current technological solutions limit the use of recordings in biodiversity research. [GRAPHICS] The “My naturesound” allows the user to record taxon occurrences and to provide audio recordings as evidence. After installing the application, the user is promted to login with PlutoF system credentials or to register with PlutoF. The application is targeted primarely to citizen scientists, but researchers themselves can also use it as a tool for easy annotation of taxon occurrences. New information The dataset consists observation data of birds, amphibians and insects by citizen scientists with on site audio recordings. The dataset gives the possibility to analyze the suitablility of mobile devices for recording animal vocalizations and their use in reporting.')"
   ]
  },
  {
   "cell_type": "code",
   "execution_count": 49,
   "metadata": {},
   "outputs": [
    {
     "data": {
      "text/plain": [
       "[('observation', 4),\n",
       " ('citizen scientists', 4),\n",
       " ('university', 4),\n",
       " ('natural history', 4),\n",
       " ('museum', 4),\n",
       " ('biodiversity information', 3),\n",
       " ('application', 3),\n",
       " ('online', 2),\n",
       " ('reporting', 2),\n",
       " ('research', 2)]"
      ]
     },
     "execution_count": 49,
     "metadata": {},
     "output_type": "execute_result"
    }
   ],
   "source": [
    "Counter(keywords_found).most_common(10)"
   ]
  },
  {
   "cell_type": "code",
   "execution_count": null,
   "metadata": {},
   "outputs": [],
   "source": []
  }
 ],
 "metadata": {
  "kernelspec": {
   "display_name": "Python 3",
   "language": "python",
   "name": "python3"
  },
  "language_info": {
   "codemirror_mode": {
    "name": "ipython",
    "version": 3
   },
   "file_extension": ".py",
   "mimetype": "text/x-python",
   "name": "python",
   "nbconvert_exporter": "python",
   "pygments_lexer": "ipython3",
   "version": "3.8.5"
  }
 },
 "nbformat": 4,
 "nbformat_minor": 4
}
